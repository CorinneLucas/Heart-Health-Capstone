{
 "cells": [
  {
   "cell_type": "markdown",
   "id": "b8dc0a93",
   "metadata": {},
   "source": [
    "# Capstone 2 - Heart Health"
   ]
  },
  {
   "cell_type": "markdown",
   "id": "6e0e2cab",
   "metadata": {},
   "source": [
    "[Data Source](https://www.kaggle.com/datasets/alexteboul/heart-disease-health-indicators-dataset)"
   ]
  },
  {
   "cell_type": "code",
   "execution_count": 1,
   "id": "ad07c855",
   "metadata": {},
   "outputs": [],
   "source": [
    "import pandas as pd\n",
    "import matplotlib.pyplot as plt\n",
    "import seaborn as sns\n",
    "import statsmodels.api as sm\n",
    "import scipy.stats as ss\n",
    "import numpy as np"
   ]
  },
  {
   "cell_type": "code",
   "execution_count": 2,
   "id": "8a561d47",
   "metadata": {},
   "outputs": [
    {
     "data": {
      "text/html": [
       "<div>\n",
       "<style scoped>\n",
       "    .dataframe tbody tr th:only-of-type {\n",
       "        vertical-align: middle;\n",
       "    }\n",
       "\n",
       "    .dataframe tbody tr th {\n",
       "        vertical-align: top;\n",
       "    }\n",
       "\n",
       "    .dataframe thead th {\n",
       "        text-align: right;\n",
       "    }\n",
       "</style>\n",
       "<table border=\"1\" class=\"dataframe\">\n",
       "  <thead>\n",
       "    <tr style=\"text-align: right;\">\n",
       "      <th></th>\n",
       "      <th>HeartDiseaseorAttack</th>\n",
       "      <th>HighBP</th>\n",
       "      <th>HighChol</th>\n",
       "      <th>CholCheck</th>\n",
       "      <th>BMI</th>\n",
       "      <th>Smoker</th>\n",
       "      <th>Stroke</th>\n",
       "      <th>Diabetes</th>\n",
       "      <th>PhysActivity</th>\n",
       "      <th>Fruits</th>\n",
       "      <th>...</th>\n",
       "      <th>AnyHealthcare</th>\n",
       "      <th>NoDocbcCost</th>\n",
       "      <th>GenHlth</th>\n",
       "      <th>MentHlth</th>\n",
       "      <th>PhysHlth</th>\n",
       "      <th>DiffWalk</th>\n",
       "      <th>Sex</th>\n",
       "      <th>Age</th>\n",
       "      <th>Education</th>\n",
       "      <th>Income</th>\n",
       "    </tr>\n",
       "  </thead>\n",
       "  <tbody>\n",
       "    <tr>\n",
       "      <th>0</th>\n",
       "      <td>0</td>\n",
       "      <td>1</td>\n",
       "      <td>1</td>\n",
       "      <td>1</td>\n",
       "      <td>40</td>\n",
       "      <td>1</td>\n",
       "      <td>0</td>\n",
       "      <td>0</td>\n",
       "      <td>0</td>\n",
       "      <td>0</td>\n",
       "      <td>...</td>\n",
       "      <td>1</td>\n",
       "      <td>0</td>\n",
       "      <td>5</td>\n",
       "      <td>18</td>\n",
       "      <td>15</td>\n",
       "      <td>1</td>\n",
       "      <td>0</td>\n",
       "      <td>9</td>\n",
       "      <td>4</td>\n",
       "      <td>3</td>\n",
       "    </tr>\n",
       "    <tr>\n",
       "      <th>1</th>\n",
       "      <td>0</td>\n",
       "      <td>0</td>\n",
       "      <td>0</td>\n",
       "      <td>0</td>\n",
       "      <td>25</td>\n",
       "      <td>1</td>\n",
       "      <td>0</td>\n",
       "      <td>0</td>\n",
       "      <td>1</td>\n",
       "      <td>0</td>\n",
       "      <td>...</td>\n",
       "      <td>0</td>\n",
       "      <td>1</td>\n",
       "      <td>3</td>\n",
       "      <td>0</td>\n",
       "      <td>0</td>\n",
       "      <td>0</td>\n",
       "      <td>0</td>\n",
       "      <td>7</td>\n",
       "      <td>6</td>\n",
       "      <td>1</td>\n",
       "    </tr>\n",
       "    <tr>\n",
       "      <th>2</th>\n",
       "      <td>0</td>\n",
       "      <td>1</td>\n",
       "      <td>1</td>\n",
       "      <td>1</td>\n",
       "      <td>28</td>\n",
       "      <td>0</td>\n",
       "      <td>0</td>\n",
       "      <td>0</td>\n",
       "      <td>0</td>\n",
       "      <td>1</td>\n",
       "      <td>...</td>\n",
       "      <td>1</td>\n",
       "      <td>1</td>\n",
       "      <td>5</td>\n",
       "      <td>30</td>\n",
       "      <td>30</td>\n",
       "      <td>1</td>\n",
       "      <td>0</td>\n",
       "      <td>9</td>\n",
       "      <td>4</td>\n",
       "      <td>8</td>\n",
       "    </tr>\n",
       "    <tr>\n",
       "      <th>3</th>\n",
       "      <td>0</td>\n",
       "      <td>1</td>\n",
       "      <td>0</td>\n",
       "      <td>1</td>\n",
       "      <td>27</td>\n",
       "      <td>0</td>\n",
       "      <td>0</td>\n",
       "      <td>0</td>\n",
       "      <td>1</td>\n",
       "      <td>1</td>\n",
       "      <td>...</td>\n",
       "      <td>1</td>\n",
       "      <td>0</td>\n",
       "      <td>2</td>\n",
       "      <td>0</td>\n",
       "      <td>0</td>\n",
       "      <td>0</td>\n",
       "      <td>0</td>\n",
       "      <td>11</td>\n",
       "      <td>3</td>\n",
       "      <td>6</td>\n",
       "    </tr>\n",
       "    <tr>\n",
       "      <th>4</th>\n",
       "      <td>0</td>\n",
       "      <td>1</td>\n",
       "      <td>1</td>\n",
       "      <td>1</td>\n",
       "      <td>24</td>\n",
       "      <td>0</td>\n",
       "      <td>0</td>\n",
       "      <td>0</td>\n",
       "      <td>1</td>\n",
       "      <td>1</td>\n",
       "      <td>...</td>\n",
       "      <td>1</td>\n",
       "      <td>0</td>\n",
       "      <td>2</td>\n",
       "      <td>3</td>\n",
       "      <td>0</td>\n",
       "      <td>0</td>\n",
       "      <td>0</td>\n",
       "      <td>11</td>\n",
       "      <td>5</td>\n",
       "      <td>4</td>\n",
       "    </tr>\n",
       "  </tbody>\n",
       "</table>\n",
       "<p>5 rows × 22 columns</p>\n",
       "</div>"
      ],
      "text/plain": [
       "   HeartDiseaseorAttack  HighBP  HighChol  CholCheck  BMI  Smoker  Stroke  \\\n",
       "0                     0       1         1          1   40       1       0   \n",
       "1                     0       0         0          0   25       1       0   \n",
       "2                     0       1         1          1   28       0       0   \n",
       "3                     0       1         0          1   27       0       0   \n",
       "4                     0       1         1          1   24       0       0   \n",
       "\n",
       "   Diabetes  PhysActivity  Fruits  ...  AnyHealthcare  NoDocbcCost  GenHlth  \\\n",
       "0         0             0       0  ...              1            0        5   \n",
       "1         0             1       0  ...              0            1        3   \n",
       "2         0             0       1  ...              1            1        5   \n",
       "3         0             1       1  ...              1            0        2   \n",
       "4         0             1       1  ...              1            0        2   \n",
       "\n",
       "   MentHlth  PhysHlth  DiffWalk  Sex  Age  Education  Income  \n",
       "0        18        15         1    0    9          4       3  \n",
       "1         0         0         0    0    7          6       1  \n",
       "2        30        30         1    0    9          4       8  \n",
       "3         0         0         0    0   11          3       6  \n",
       "4         3         0         0    0   11          5       4  \n",
       "\n",
       "[5 rows x 22 columns]"
      ]
     },
     "metadata": {},
     "output_type": "display_data"
    }
   ],
   "source": [
    "dataframe = pd.read_csv(r'heart_disease_cap2.csv')\n",
    "display(dataframe.head())"
   ]
  },
  {
   "cell_type": "markdown",
   "id": "4fd516a0",
   "metadata": {},
   "source": [
    "## Data Cleansing"
   ]
  },
  {
   "cell_type": "code",
   "execution_count": 3,
   "id": "2453537c",
   "metadata": {
    "scrolled": true
   },
   "outputs": [
    {
     "data": {
      "text/plain": [
       "HeartDiseaseorAttack    0\n",
       "HighBP                  0\n",
       "HighChol                0\n",
       "CholCheck               0\n",
       "BMI                     0\n",
       "Smoker                  0\n",
       "Stroke                  0\n",
       "Diabetes                0\n",
       "PhysActivity            0\n",
       "Fruits                  0\n",
       "Veggies                 0\n",
       "HvyAlcoholConsump       0\n",
       "AnyHealthcare           0\n",
       "NoDocbcCost             0\n",
       "GenHlth                 0\n",
       "MentHlth                0\n",
       "PhysHlth                0\n",
       "DiffWalk                0\n",
       "Sex                     0\n",
       "Age                     0\n",
       "Education               0\n",
       "Income                  0\n",
       "dtype: int64"
      ]
     },
     "execution_count": 3,
     "metadata": {},
     "output_type": "execute_result"
    }
   ],
   "source": [
    "dataframe.isna().sum() #finding NA values in columns"
   ]
  },
  {
   "cell_type": "code",
   "execution_count": 4,
   "id": "41e3cb35",
   "metadata": {},
   "outputs": [
    {
     "data": {
      "text/plain": [
       "HeartDiseaseorAttack    int64\n",
       "HighBP                  int64\n",
       "HighChol                int64\n",
       "CholCheck               int64\n",
       "BMI                     int64\n",
       "Smoker                  int64\n",
       "Stroke                  int64\n",
       "Diabetes                int64\n",
       "PhysActivity            int64\n",
       "Fruits                  int64\n",
       "Veggies                 int64\n",
       "HvyAlcoholConsump       int64\n",
       "AnyHealthcare           int64\n",
       "NoDocbcCost             int64\n",
       "GenHlth                 int64\n",
       "MentHlth                int64\n",
       "PhysHlth                int64\n",
       "DiffWalk                int64\n",
       "Sex                     int64\n",
       "Age                     int64\n",
       "Education               int64\n",
       "Income                  int64\n",
       "dtype: object"
      ]
     },
     "execution_count": 4,
     "metadata": {},
     "output_type": "execute_result"
    }
   ],
   "source": [
    "dataframe.dtypes #check data types"
   ]
  },
  {
   "cell_type": "markdown",
   "id": "f1784c80",
   "metadata": {},
   "source": [
    "## Exploration of Variables\n",
    "\n",
    "i.e. heart disease/no heart disease, age, sex, etc."
   ]
  },
  {
   "cell_type": "markdown",
   "id": "90fea25b",
   "metadata": {},
   "source": [
    "### Count plot of those with Heart Disease or Attack (1) and those without Heart Disease or Attack (0)."
   ]
  },
  {
   "cell_type": "code",
   "execution_count": 5,
   "id": "bbd6e4a9",
   "metadata": {},
   "outputs": [
    {
     "data": {
      "text/plain": [
       "0    0.905814\n",
       "1    0.094186\n",
       "Name: HeartDiseaseorAttack, dtype: float64"
      ]
     },
     "metadata": {},
     "output_type": "display_data"
    }
   ],
   "source": [
    "hd_percentages= dataframe['HeartDiseaseorAttack'].value_counts(normalize=True)\n",
    "display(hd_percentages)"
   ]
  },
  {
   "cell_type": "code",
   "execution_count": 33,
   "id": "8ef49de1",
   "metadata": {
    "scrolled": true
   },
   "outputs": [
    {
     "data": {
      "image/png": "[encoded data removed]",
      "text/plain": [
       "<Figure size 1500x500 with 1 Axes>"
      ]
     },
     "metadata": {},
     "output_type": "display_data"
    }
   ],
   "source": [
    "sns.countplot(x='HeartDiseaseorAttack', data=dataframe, hue='HeartDiseaseorAttack').set_title('Heart Disease or Attack Counts')\n",
    "plt.legend(title='History of HD/Attack', labels=['No', 'Yes'])\n",
    "plt.show()"
   ]
  },
  {
   "cell_type": "markdown",
   "id": "9ed17723",
   "metadata": {},
   "source": [
    "### See counts of the top 3 causes of heart disease (high blood pressure, high cholesterol, smoking)."
   ]
  },
  {
   "cell_type": "code",
   "execution_count": 34,
   "id": "5430b03b",
   "metadata": {},
   "outputs": [
    {
     "data": {
      "image/png": "[encoded data removed]",
      "text/plain": [
       "<Figure size 1500x500 with 1 Axes>"
      ]
     },
     "metadata": {},
     "output_type": "display_data"
    }
   ],
   "source": [
    "sns.countplot(x='HighBP', data=dataframe, hue='HeartDiseaseorAttack').set_title('High Blood Pressure Counts')\n",
    "plt.legend(title='History of HD/Attack', labels=['No', 'Yes'])\n",
    "plt.show()"
   ]
  },
  {
   "cell_type": "code",
   "execution_count": 35,
   "id": "2f139d38",
   "metadata": {},
   "outputs": [
    {
     "data": {
      "image/png": "[encoded data removed]",
      "text/plain": [
       "<Figure size 1500x500 with 1 Axes>"
      ]
     },
     "metadata": {},
     "output_type": "display_data"
    }
   ],
   "source": [
    "sns.countplot(x='HighChol', data=dataframe, hue='HeartDiseaseorAttack').set_title('High Cholesterol Counts')\n",
    "plt.legend(title='History of HD/Attack', labels=['No', 'Yes'])\n",
    "plt.show()"
   ]
  },
  {
   "cell_type": "code",
   "execution_count": 36,
   "id": "721e621b",
   "metadata": {},
   "outputs": [
    {
     "data": {
      "image/png": "[encoded data removed]",
      "text/plain": [
       "<Figure size 1500x500 with 1 Axes>"
      ]
     },
     "metadata": {},
     "output_type": "display_data"
    }
   ],
   "source": [
    "sns.countplot(x='Smoker', data=dataframe, hue='HeartDiseaseorAttack').set_title('Smoker Counts')\n",
    "plt.legend(title='History of HD/Attack', labels=['No', 'Yes'])\n",
    "plt.show()"
   ]
  },
  {
   "cell_type": "code",
   "execution_count": 10,
   "id": "540ee960",
   "metadata": {},
   "outputs": [],
   "source": [
    "hd_df = dataframe[dataframe['HeartDiseaseorAttack'] == 1]\n",
    "nhd_df = dataframe[dataframe['HeartDiseaseorAttack'] == 0]"
   ]
  },
  {
   "cell_type": "code",
   "execution_count": 12,
   "id": "a4720099",
   "metadata": {},
   "outputs": [
    {
     "data": {
      "image/png": "[encoded data removed]",
      "text/plain": [
       "<Figure size 1500x500 with 1 Axes>"
      ]
     },
     "metadata": {},
     "output_type": "display_data"
    }
   ],
   "source": [
    "fig, ax = plt.subplots()\n",
    "bins = [1, 2, 3, 4, 5, 6, 7, 8, 9, 10, 11, 12, 13]\n",
    "labels = ['18-24', '25-30', '31-35', '36-40', '41-45', '46-50', '51-55', '56-60', '61-65', '66-70', '71-75', '76-79', '80+']\n",
    "ax.hist(hd_df['Age'], label='History of HD/Attack', bins=bins, alpha=0.5)\n",
    "ax.hist(nhd_df['Age'], bins=bins, label='No history of HD/Attack', alpha=0.5)\n",
    "ax.legend()\n",
    "ax.set_ylabel('Counts')\n",
    "ax.set_xlabel('Age Category')\n",
    "ax.set_title('Age category by heart health')\n",
    "plt.xticks(ticks=bins, labels=labels)\n",
    "plt.rcParams['figure.figsize'] = [15, 5]\n",
    "plt.show()"
   ]
  },
  {
   "cell_type": "markdown",
   "id": "f07ac412",
   "metadata": {},
   "source": [
    "## Initial Correlations\n",
    "\n",
    "Tetrachoric Correlation, phi coefficient "
   ]
  },
  {
   "cell_type": "code",
   "execution_count": 13,
   "id": "50a9c035",
   "metadata": {},
   "outputs": [
    {
     "data": {
      "text/html": [
       "<div>\n",
       "<style scoped>\n",
       "    .dataframe tbody tr th:only-of-type {\n",
       "        vertical-align: middle;\n",
       "    }\n",
       "\n",
       "    .dataframe tbody tr th {\n",
       "        vertical-align: top;\n",
       "    }\n",
       "\n",
       "    .dataframe thead th {\n",
       "        text-align: right;\n",
       "    }\n",
       "</style>\n",
       "<table border=\"1\" class=\"dataframe\">\n",
       "  <thead>\n",
       "    <tr style=\"text-align: right;\">\n",
       "      <th></th>\n",
       "      <th>HeartDiseaseorAttack</th>\n",
       "      <th>HighBP</th>\n",
       "      <th>HighChol</th>\n",
       "      <th>CholCheck</th>\n",
       "      <th>Smoker</th>\n",
       "      <th>Stroke</th>\n",
       "      <th>PhysActivity</th>\n",
       "      <th>Fruits</th>\n",
       "      <th>Veggies</th>\n",
       "      <th>HvyAlcoholConsump</th>\n",
       "      <th>AnyHealthcare</th>\n",
       "      <th>NoDocbcCost</th>\n",
       "      <th>DiffWalk</th>\n",
       "      <th>Sex</th>\n",
       "    </tr>\n",
       "  </thead>\n",
       "  <tbody>\n",
       "    <tr>\n",
       "      <th>0</th>\n",
       "      <td>0</td>\n",
       "      <td>1</td>\n",
       "      <td>1</td>\n",
       "      <td>1</td>\n",
       "      <td>1</td>\n",
       "      <td>0</td>\n",
       "      <td>0</td>\n",
       "      <td>0</td>\n",
       "      <td>1</td>\n",
       "      <td>0</td>\n",
       "      <td>1</td>\n",
       "      <td>0</td>\n",
       "      <td>1</td>\n",
       "      <td>0</td>\n",
       "    </tr>\n",
       "    <tr>\n",
       "      <th>1</th>\n",
       "      <td>0</td>\n",
       "      <td>0</td>\n",
       "      <td>0</td>\n",
       "      <td>0</td>\n",
       "      <td>1</td>\n",
       "      <td>0</td>\n",
       "      <td>1</td>\n",
       "      <td>0</td>\n",
       "      <td>0</td>\n",
       "      <td>0</td>\n",
       "      <td>0</td>\n",
       "      <td>1</td>\n",
       "      <td>0</td>\n",
       "      <td>0</td>\n",
       "    </tr>\n",
       "    <tr>\n",
       "      <th>2</th>\n",
       "      <td>0</td>\n",
       "      <td>1</td>\n",
       "      <td>1</td>\n",
       "      <td>1</td>\n",
       "      <td>0</td>\n",
       "      <td>0</td>\n",
       "      <td>0</td>\n",
       "      <td>1</td>\n",
       "      <td>0</td>\n",
       "      <td>0</td>\n",
       "      <td>1</td>\n",
       "      <td>1</td>\n",
       "      <td>1</td>\n",
       "      <td>0</td>\n",
       "    </tr>\n",
       "    <tr>\n",
       "      <th>3</th>\n",
       "      <td>0</td>\n",
       "      <td>1</td>\n",
       "      <td>0</td>\n",
       "      <td>1</td>\n",
       "      <td>0</td>\n",
       "      <td>0</td>\n",
       "      <td>1</td>\n",
       "      <td>1</td>\n",
       "      <td>1</td>\n",
       "      <td>0</td>\n",
       "      <td>1</td>\n",
       "      <td>0</td>\n",
       "      <td>0</td>\n",
       "      <td>0</td>\n",
       "    </tr>\n",
       "    <tr>\n",
       "      <th>4</th>\n",
       "      <td>0</td>\n",
       "      <td>1</td>\n",
       "      <td>1</td>\n",
       "      <td>1</td>\n",
       "      <td>0</td>\n",
       "      <td>0</td>\n",
       "      <td>1</td>\n",
       "      <td>1</td>\n",
       "      <td>1</td>\n",
       "      <td>0</td>\n",
       "      <td>1</td>\n",
       "      <td>0</td>\n",
       "      <td>0</td>\n",
       "      <td>0</td>\n",
       "    </tr>\n",
       "  </tbody>\n",
       "</table>\n",
       "</div>"
      ],
      "text/plain": [
       "   HeartDiseaseorAttack  HighBP  HighChol  CholCheck  Smoker  Stroke  \\\n",
       "0                     0       1         1          1       1       0   \n",
       "1                     0       0         0          0       1       0   \n",
       "2                     0       1         1          1       0       0   \n",
       "3                     0       1         0          1       0       0   \n",
       "4                     0       1         1          1       0       0   \n",
       "\n",
       "   PhysActivity  Fruits  Veggies  HvyAlcoholConsump  AnyHealthcare  \\\n",
       "0             0       0        1                  0              1   \n",
       "1             1       0        0                  0              0   \n",
       "2             0       1        0                  0              1   \n",
       "3             1       1        1                  0              1   \n",
       "4             1       1        1                  0              1   \n",
       "\n",
       "   NoDocbcCost  DiffWalk  Sex  \n",
       "0            0         1    0  \n",
       "1            1         0    0  \n",
       "2            1         1    0  \n",
       "3            0         0    0  \n",
       "4            0         0    0  "
      ]
     },
     "metadata": {},
     "output_type": "display_data"
    }
   ],
   "source": [
    "binary_df = dataframe.drop(columns=['BMI', 'Diabetes', 'GenHlth', 'MentHlth', 'PhysHlth', 'Age', 'Income', 'Education'])\n",
    "display(binary_df.head())"
   ]
  },
  {
   "cell_type": "markdown",
   "id": "23344b5e",
   "metadata": {},
   "source": [
    "### Setting up Cramer's V \n",
    "Cramer's V for ALL data, including those without Heart Disease or Attack \n",
    "https://www.kaggle.com/code/chrisbss1/cramer-s-v-correlation-matrix "
   ]
  },
  {
   "cell_type": "code",
   "execution_count": 14,
   "id": "fad663f8",
   "metadata": {},
   "outputs": [],
   "source": [
    "def contingency_table_matrix(df):\n",
    "    columns = df.columns\n",
    "    matrix = np.zeros((len(columns), len(columns)))\n",
    "    for i, col1 in enumerate(columns):\n",
    "        for j, col2 in enumerate(columns):\n",
    "            contingency_table = pd.crosstab(df[col1], df[col2])\n",
    "            chi2, _, _, _ = ss.chi2_contingency(contingency_table)\n",
    "            min_categories = min(contingency_table.shape[0], contingency_table.shape[1])\n",
    "            n = contingency_table.sum().sum()\n",
    "            V = np.sqrt(chi2 / (n * (min_categories - 1)))\n",
    "            matrix[i, j] = V\n",
    "    return pd.DataFrame(matrix, columns=columns, index=columns)"
   ]
  },
  {
   "cell_type": "code",
   "execution_count": 15,
   "id": "ddd0129e",
   "metadata": {
    "scrolled": true
   },
   "outputs": [
    {
     "name": "stdout",
     "output_type": "stream",
     "text": [
      "                      HeartDiseaseorAttack    HighBP  HighChol  CholCheck  \\\n",
      "HeartDiseaseorAttack              0.999977  0.209348  0.180752   0.044170   \n",
      "HighBP                            0.209348  0.999992  0.298191   0.098487   \n",
      "HighChol                          0.180752  0.298191  0.999992   0.085621   \n",
      "CholCheck                         0.044170  0.098487  0.085621   0.999945   \n",
      "Smoker                            0.114428  0.096983  0.091291   0.009908   \n",
      "Stroke                            0.202968  0.129555  0.092600   0.024105   \n",
      "PhysActivity                      0.087283  0.125258  0.078037   0.004165   \n",
      "Fruits                            0.019776  0.040546  0.040851   0.023828   \n",
      "Veggies                           0.039150  0.061256  0.039863   0.006094   \n",
      "HvyAlcoholConsump                 0.028961  0.003954  0.011525   0.023685   \n",
      "AnyHealthcare                     0.018703  0.038406  0.042211   0.117577   \n",
      "NoDocbcCost                       0.030975  0.017344  0.013296   0.058218   \n",
      "DiffWalk                          0.212691  0.223608  0.144661   0.040557   \n",
      "Sex                               0.086082  0.052199  0.031197   0.022094   \n",
      "\n",
      "                        Smoker    Stroke  PhysActivity    Fruits   Veggies  \\\n",
      "HeartDiseaseorAttack  0.114428  0.202968      0.087283  0.019776  0.039150   \n",
      "HighBP                0.096983  0.129555      0.125258  0.040546  0.061256   \n",
      "HighChol              0.091291  0.092600      0.078037  0.040851  0.039863   \n",
      "CholCheck             0.009908  0.024105      0.004165  0.023828  0.006094   \n",
      "Smoker                0.999992  0.061153      0.087392  0.077658  0.030668   \n",
      "Stroke                0.061153  0.999949      0.069128  0.013369  0.041099   \n",
      "PhysActivity          0.087392  0.069128      0.999989  0.142746  0.153138   \n",
      "Fruits                0.077658  0.013369      0.142746  0.999992  0.254332   \n",
      "Veggies               0.030668  0.041099      0.153138  0.254332  0.999987   \n",
      "HvyAlcoholConsump     0.101601  0.016907      0.012372  0.035270  0.021043   \n",
      "AnyHealthcare         0.023232  0.008730      0.035483  0.031525  0.029560   \n",
      "NoDocbcCost           0.048932  0.034768      0.061622  0.044228  0.032214   \n",
      "DiffWalk              0.122453  0.176540      0.253162  0.048341  0.080492   \n",
      "Sex                   0.093654  0.002958      0.032472  0.091167  0.064755   \n",
      "\n",
      "                      HvyAlcoholConsump  AnyHealthcare  NoDocbcCost  DiffWalk  \\\n",
      "HeartDiseaseorAttack           0.028961       0.018703     0.030975  0.212691   \n",
      "HighBP                         0.003954       0.038406     0.017344  0.223608   \n",
      "HighChol                       0.011525       0.042211     0.013296  0.144661   \n",
      "CholCheck                      0.023685       0.117577     0.058218  0.040557   \n",
      "Smoker                         0.101601       0.023232     0.048932  0.122453   \n",
      "Stroke                         0.016907       0.008730     0.034768  0.176540   \n",
      "PhysActivity                   0.012372       0.035483     0.061622  0.253162   \n",
      "Fruits                         0.035270       0.031525     0.044228  0.048341   \n",
      "Veggies                        0.021043       0.029560     0.032214  0.080492   \n",
      "HvyAlcoholConsump              0.999963       0.010448     0.004653  0.037645   \n",
      "AnyHealthcare                  0.010448       0.999958     0.232499  0.007050   \n",
      "NoDocbcCost                    0.004653       0.232499     0.999974  0.118428   \n",
      "DiffWalk                       0.037645       0.007050     0.118428  0.999986   \n",
      "Sex                            0.005723       0.019387     0.044917  0.070288   \n",
      "\n",
      "                           Sex  \n",
      "HeartDiseaseorAttack  0.086082  \n",
      "HighBP                0.052199  \n",
      "HighChol              0.031197  \n",
      "CholCheck             0.022094  \n",
      "Smoker                0.093654  \n",
      "Stroke                0.002958  \n",
      "PhysActivity          0.032472  \n",
      "Fruits                0.091167  \n",
      "Veggies               0.064755  \n",
      "HvyAlcoholConsump     0.005723  \n",
      "AnyHealthcare         0.019387  \n",
      "NoDocbcCost           0.044917  \n",
      "DiffWalk              0.070288  \n",
      "Sex                   0.999992  \n"
     ]
    }
   ],
   "source": [
    "cramers_v_matrix = contingency_table_matrix(binary_df)\n",
    "print(cramers_v_matrix)"
   ]
  },
  {
   "cell_type": "markdown",
   "id": "2ad5c257",
   "metadata": {},
   "source": [
    "#### Heatmap of Cramer's Matrix"
   ]
  },
  {
   "cell_type": "code",
   "execution_count": 38,
   "id": "8e997742",
   "metadata": {},
   "outputs": [
    {
     "data": {
      "text/plain": [
       "<Axes: >"
      ]
     },
     "execution_count": 38,
     "metadata": {},
     "output_type": "execute_result"
    },
    {
     "data": {
      "image/png": "[encoded data removed]",
      "text/plain": [
       "<Figure size 1500x500 with 2 Axes>"
      ]
     },
     "metadata": {},
     "output_type": "display_data"
    }
   ],
   "source": [
    "sns.heatmap(cramers_v_matrix, linewidth=.5, cmap='Reds')"
   ]
  },
  {
   "cell_type": "markdown",
   "id": "24029dc7",
   "metadata": {},
   "source": [
    "### Cramer's V for specific variables\n",
    "Based on highest associations from initial analysis (HighBP, HighChol, Smoker, Stroke, DiffWalk)"
   ]
  },
  {
   "cell_type": "markdown",
   "id": "f2daec64",
   "metadata": {},
   "source": [
    "#### Subsetting Heart Disease/Attack DF for binary variables"
   ]
  },
  {
   "cell_type": "code",
   "execution_count": 17,
   "id": "709a34f1",
   "metadata": {
    "scrolled": false
   },
   "outputs": [
    {
     "data": {
      "text/html": [
       "<div>\n",
       "<style scoped>\n",
       "    .dataframe tbody tr th:only-of-type {\n",
       "        vertical-align: middle;\n",
       "    }\n",
       "\n",
       "    .dataframe tbody tr th {\n",
       "        vertical-align: top;\n",
       "    }\n",
       "\n",
       "    .dataframe thead th {\n",
       "        text-align: right;\n",
       "    }\n",
       "</style>\n",
       "<table border=\"1\" class=\"dataframe\">\n",
       "  <thead>\n",
       "    <tr style=\"text-align: right;\">\n",
       "      <th></th>\n",
       "      <th>HeartDiseaseorAttack</th>\n",
       "      <th>HighBP</th>\n",
       "      <th>HighChol</th>\n",
       "      <th>CholCheck</th>\n",
       "      <th>Smoker</th>\n",
       "      <th>Stroke</th>\n",
       "      <th>PhysActivity</th>\n",
       "      <th>Fruits</th>\n",
       "      <th>Veggies</th>\n",
       "      <th>HvyAlcoholConsump</th>\n",
       "      <th>AnyHealthcare</th>\n",
       "      <th>NoDocbcCost</th>\n",
       "      <th>DiffWalk</th>\n",
       "      <th>Sex</th>\n",
       "    </tr>\n",
       "  </thead>\n",
       "  <tbody>\n",
       "    <tr>\n",
       "      <th>8</th>\n",
       "      <td>1</td>\n",
       "      <td>1</td>\n",
       "      <td>1</td>\n",
       "      <td>1</td>\n",
       "      <td>1</td>\n",
       "      <td>0</td>\n",
       "      <td>0</td>\n",
       "      <td>1</td>\n",
       "      <td>1</td>\n",
       "      <td>0</td>\n",
       "      <td>1</td>\n",
       "      <td>0</td>\n",
       "      <td>1</td>\n",
       "      <td>0</td>\n",
       "    </tr>\n",
       "    <tr>\n",
       "      <th>20</th>\n",
       "      <td>1</td>\n",
       "      <td>1</td>\n",
       "      <td>1</td>\n",
       "      <td>1</td>\n",
       "      <td>0</td>\n",
       "      <td>1</td>\n",
       "      <td>0</td>\n",
       "      <td>1</td>\n",
       "      <td>0</td>\n",
       "      <td>0</td>\n",
       "      <td>1</td>\n",
       "      <td>0</td>\n",
       "      <td>1</td>\n",
       "      <td>0</td>\n",
       "    </tr>\n",
       "    <tr>\n",
       "      <th>26</th>\n",
       "      <td>1</td>\n",
       "      <td>1</td>\n",
       "      <td>1</td>\n",
       "      <td>1</td>\n",
       "      <td>1</td>\n",
       "      <td>1</td>\n",
       "      <td>0</td>\n",
       "      <td>0</td>\n",
       "      <td>1</td>\n",
       "      <td>0</td>\n",
       "      <td>1</td>\n",
       "      <td>0</td>\n",
       "      <td>1</td>\n",
       "      <td>1</td>\n",
       "    </tr>\n",
       "    <tr>\n",
       "      <th>27</th>\n",
       "      <td>1</td>\n",
       "      <td>1</td>\n",
       "      <td>1</td>\n",
       "      <td>1</td>\n",
       "      <td>1</td>\n",
       "      <td>0</td>\n",
       "      <td>0</td>\n",
       "      <td>0</td>\n",
       "      <td>1</td>\n",
       "      <td>0</td>\n",
       "      <td>1</td>\n",
       "      <td>0</td>\n",
       "      <td>0</td>\n",
       "      <td>1</td>\n",
       "    </tr>\n",
       "    <tr>\n",
       "      <th>47</th>\n",
       "      <td>1</td>\n",
       "      <td>1</td>\n",
       "      <td>1</td>\n",
       "      <td>1</td>\n",
       "      <td>1</td>\n",
       "      <td>0</td>\n",
       "      <td>0</td>\n",
       "      <td>1</td>\n",
       "      <td>1</td>\n",
       "      <td>0</td>\n",
       "      <td>1</td>\n",
       "      <td>0</td>\n",
       "      <td>0</td>\n",
       "      <td>1</td>\n",
       "    </tr>\n",
       "  </tbody>\n",
       "</table>\n",
       "</div>"
      ],
      "text/plain": [
       "    HeartDiseaseorAttack  HighBP  HighChol  CholCheck  Smoker  Stroke  \\\n",
       "8                      1       1         1          1       1       0   \n",
       "20                     1       1         1          1       0       1   \n",
       "26                     1       1         1          1       1       1   \n",
       "27                     1       1         1          1       1       0   \n",
       "47                     1       1         1          1       1       0   \n",
       "\n",
       "    PhysActivity  Fruits  Veggies  HvyAlcoholConsump  AnyHealthcare  \\\n",
       "8              0       1        1                  0              1   \n",
       "20             0       1        0                  0              1   \n",
       "26             0       0        1                  0              1   \n",
       "27             0       0        1                  0              1   \n",
       "47             0       1        1                  0              1   \n",
       "\n",
       "    NoDocbcCost  DiffWalk  Sex  \n",
       "8             0         1    0  \n",
       "20            0         1    0  \n",
       "26            0         1    1  \n",
       "27            0         0    1  \n",
       "47            0         0    1  "
      ]
     },
     "metadata": {},
     "output_type": "display_data"
    }
   ],
   "source": [
    "binary_hd_df = hd_df.drop(columns=['BMI', 'Diabetes', 'GenHlth', 'MentHlth', 'PhysHlth', 'Age', 'Income', 'Education'])\n",
    "display(binary_hd_df.head())"
   ]
  },
  {
   "cell_type": "code",
   "execution_count": 18,
   "id": "048d6a99",
   "metadata": {
    "scrolled": false
   },
   "outputs": [
    {
     "data": {
      "text/html": [
       "<div>\n",
       "<style scoped>\n",
       "    .dataframe tbody tr th:only-of-type {\n",
       "        vertical-align: middle;\n",
       "    }\n",
       "\n",
       "    .dataframe tbody tr th {\n",
       "        vertical-align: top;\n",
       "    }\n",
       "\n",
       "    .dataframe thead th {\n",
       "        text-align: right;\n",
       "    }\n",
       "</style>\n",
       "<table border=\"1\" class=\"dataframe\">\n",
       "  <thead>\n",
       "    <tr style=\"text-align: right;\">\n",
       "      <th></th>\n",
       "      <th>HeartDiseaseorAttack</th>\n",
       "      <th>HighBP</th>\n",
       "      <th>HighChol</th>\n",
       "      <th>CholCheck</th>\n",
       "      <th>Smoker</th>\n",
       "      <th>Stroke</th>\n",
       "      <th>PhysActivity</th>\n",
       "      <th>Fruits</th>\n",
       "      <th>Veggies</th>\n",
       "      <th>HvyAlcoholConsump</th>\n",
       "      <th>AnyHealthcare</th>\n",
       "      <th>NoDocbcCost</th>\n",
       "      <th>DiffWalk</th>\n",
       "      <th>Sex</th>\n",
       "    </tr>\n",
       "  </thead>\n",
       "  <tbody>\n",
       "    <tr>\n",
       "      <th>0</th>\n",
       "      <td>2</td>\n",
       "      <td>1</td>\n",
       "      <td>1</td>\n",
       "      <td>1</td>\n",
       "      <td>1</td>\n",
       "      <td>2</td>\n",
       "      <td>2</td>\n",
       "      <td>2</td>\n",
       "      <td>1</td>\n",
       "      <td>2</td>\n",
       "      <td>1</td>\n",
       "      <td>2</td>\n",
       "      <td>1</td>\n",
       "      <td>2</td>\n",
       "    </tr>\n",
       "    <tr>\n",
       "      <th>1</th>\n",
       "      <td>2</td>\n",
       "      <td>2</td>\n",
       "      <td>2</td>\n",
       "      <td>2</td>\n",
       "      <td>1</td>\n",
       "      <td>2</td>\n",
       "      <td>1</td>\n",
       "      <td>2</td>\n",
       "      <td>2</td>\n",
       "      <td>2</td>\n",
       "      <td>2</td>\n",
       "      <td>1</td>\n",
       "      <td>2</td>\n",
       "      <td>2</td>\n",
       "    </tr>\n",
       "    <tr>\n",
       "      <th>2</th>\n",
       "      <td>2</td>\n",
       "      <td>1</td>\n",
       "      <td>1</td>\n",
       "      <td>1</td>\n",
       "      <td>2</td>\n",
       "      <td>2</td>\n",
       "      <td>2</td>\n",
       "      <td>1</td>\n",
       "      <td>2</td>\n",
       "      <td>2</td>\n",
       "      <td>1</td>\n",
       "      <td>1</td>\n",
       "      <td>1</td>\n",
       "      <td>2</td>\n",
       "    </tr>\n",
       "    <tr>\n",
       "      <th>3</th>\n",
       "      <td>2</td>\n",
       "      <td>1</td>\n",
       "      <td>2</td>\n",
       "      <td>1</td>\n",
       "      <td>2</td>\n",
       "      <td>2</td>\n",
       "      <td>1</td>\n",
       "      <td>1</td>\n",
       "      <td>1</td>\n",
       "      <td>2</td>\n",
       "      <td>1</td>\n",
       "      <td>2</td>\n",
       "      <td>2</td>\n",
       "      <td>2</td>\n",
       "    </tr>\n",
       "    <tr>\n",
       "      <th>4</th>\n",
       "      <td>2</td>\n",
       "      <td>1</td>\n",
       "      <td>1</td>\n",
       "      <td>1</td>\n",
       "      <td>2</td>\n",
       "      <td>2</td>\n",
       "      <td>1</td>\n",
       "      <td>1</td>\n",
       "      <td>1</td>\n",
       "      <td>2</td>\n",
       "      <td>1</td>\n",
       "      <td>2</td>\n",
       "      <td>2</td>\n",
       "      <td>2</td>\n",
       "    </tr>\n",
       "  </tbody>\n",
       "</table>\n",
       "</div>"
      ],
      "text/plain": [
       "   HeartDiseaseorAttack  HighBP  HighChol  CholCheck  Smoker  Stroke  \\\n",
       "0                     2       1         1          1       1       2   \n",
       "1                     2       2         2          2       1       2   \n",
       "2                     2       1         1          1       2       2   \n",
       "3                     2       1         2          1       2       2   \n",
       "4                     2       1         1          1       2       2   \n",
       "\n",
       "   PhysActivity  Fruits  Veggies  HvyAlcoholConsump  AnyHealthcare  \\\n",
       "0             2       2        1                  2              1   \n",
       "1             1       2        2                  2              2   \n",
       "2             2       1        2                  2              1   \n",
       "3             1       1        1                  2              1   \n",
       "4             1       1        1                  2              1   \n",
       "\n",
       "   NoDocbcCost  DiffWalk  Sex  \n",
       "0            2         1    2  \n",
       "1            1         2    2  \n",
       "2            1         1    2  \n",
       "3            2         2    2  \n",
       "4            2         2    2  "
      ]
     },
     "metadata": {},
     "output_type": "display_data"
    }
   ],
   "source": [
    "yes_no = binary_df.replace(0, 2)\n",
    "display(yes_no.head())"
   ]
  },
  {
   "cell_type": "markdown",
   "id": "b19b0c5d",
   "metadata": {},
   "source": [
    "#### Cramer's V - https://docs.scipy.org/doc/scipy/reference/generated/scipy.stats.contingency.association.html "
   ]
  },
  {
   "cell_type": "code",
   "execution_count": 19,
   "id": "2ec6e046",
   "metadata": {
    "scrolled": true
   },
   "outputs": [
    {
     "data": {
      "text/plain": [
       "0.1661048276938661"
      ]
     },
     "execution_count": 19,
     "metadata": {},
     "output_type": "execute_result"
    }
   ],
   "source": [
    "from scipy.stats.contingency import association #Import association\n",
    "hd_bp = yes_no[['HeartDiseaseorAttack', 'HighBP']] #subset HD/Attack and High BP\n",
    "association(hd_bp, method='cramer') #Calculating Cramer's V"
   ]
  },
  {
   "cell_type": "code",
   "execution_count": 20,
   "id": "bc70d5bd",
   "metadata": {},
   "outputs": [
    {
     "data": {
      "text/plain": [
       "0.1680791149725333"
      ]
     },
     "execution_count": 20,
     "metadata": {},
     "output_type": "execute_result"
    }
   ],
   "source": [
    "hd_hc = yes_no[['HeartDiseaseorAttack', 'HighChol']] #subset HD/Attack and High Chol\n",
    "association(hd_hc, method=\"cramer\") "
   ]
  },
  {
   "cell_type": "code",
   "execution_count": 21,
   "id": "0e94a5bd",
   "metadata": {},
   "outputs": [
    {
     "data": {
      "text/plain": [
       "0.1750688651376673"
      ]
     },
     "execution_count": 21,
     "metadata": {},
     "output_type": "execute_result"
    }
   ],
   "source": [
    "hd_smoke = yes_no[['HeartDiseaseorAttack', 'Smoker']] #subset HD/Attack and Smoker\n",
    "association(hd_smoke, method='cramer')"
   ]
  },
  {
   "cell_type": "code",
   "execution_count": 22,
   "id": "0fe1d26d",
   "metadata": {},
   "outputs": [
    {
     "data": {
      "text/plain": [
       "0.09356129775634744"
      ]
     },
     "execution_count": 22,
     "metadata": {},
     "output_type": "execute_result"
    }
   ],
   "source": [
    "hd_stroke = yes_no[['HeartDiseaseorAttack', 'Stroke']] #subset HD/Attack and Stroke\n",
    "association(hd_stroke, method='cramer')"
   ]
  },
  {
   "cell_type": "code",
   "execution_count": 23,
   "id": "a104b1bc",
   "metadata": {},
   "outputs": [
    {
     "data": {
      "text/plain": [
       "0.1266694857136453"
      ]
     },
     "execution_count": 23,
     "metadata": {},
     "output_type": "execute_result"
    }
   ],
   "source": [
    "hd_diffwalk = yes_no[['HeartDiseaseorAttack', 'DiffWalk']] #subset HD/Attack and Difficulty Walking\n",
    "association(hd_diffwalk, method='cramer')"
   ]
  },
  {
   "cell_type": "markdown",
   "id": "4cf34b41",
   "metadata": {},
   "source": [
    "https://www.kaggle.com/code/chrisbss1/cramer-s-v-correlation-matrix "
   ]
  },
  {
   "cell_type": "markdown",
   "id": "9ea7293b",
   "metadata": {},
   "source": [
    "## More Complex Correlations\n",
    "\n",
    "logistic regression or lassso regression"
   ]
  },
  {
   "cell_type": "code",
   "execution_count": 25,
   "id": "6601af1d",
   "metadata": {},
   "outputs": [
    {
     "name": "stdout",
     "output_type": "stream",
     "text": [
      "<class 'pandas.core.series.Series'>\n",
      "RangeIndex: 253680 entries, 0 to 253679\n",
      "Series name: HeartDiseaseorAttack\n",
      "Non-Null Count   Dtype\n",
      "--------------   -----\n",
      "253680 non-null  int32\n",
      "dtypes: int32(1)\n",
      "memory usage: 991.1 KB\n",
      "<class 'pandas.core.frame.DataFrame'>\n",
      "RangeIndex: 253680 entries, 0 to 253679\n",
      "Data columns (total 13 columns):\n",
      " #   Column             Non-Null Count   Dtype\n",
      "---  ------             --------------   -----\n",
      " 0   HighBP             253680 non-null  int64\n",
      " 1   HighChol           253680 non-null  int64\n",
      " 2   CholCheck          253680 non-null  int64\n",
      " 3   Smoker             253680 non-null  int64\n",
      " 4   Stroke             253680 non-null  int64\n",
      " 5   PhysActivity       253680 non-null  int64\n",
      " 6   Fruits             253680 non-null  int64\n",
      " 7   Veggies            253680 non-null  int64\n",
      " 8   HvyAlcoholConsump  253680 non-null  int64\n",
      " 9   AnyHealthcare      253680 non-null  int64\n",
      " 10  NoDocbcCost        253680 non-null  int64\n",
      " 11  DiffWalk           253680 non-null  int64\n",
      " 12  Sex                253680 non-null  int64\n",
      "dtypes: int64(13)\n",
      "memory usage: 25.2 MB\n"
     ]
    },
    {
     "data": {
      "text/plain": [
       "None"
      ]
     },
     "metadata": {},
     "output_type": "display_data"
    },
    {
     "data": {
      "text/plain": [
       "None"
      ]
     },
     "metadata": {},
     "output_type": "display_data"
    }
   ],
   "source": [
    "y = binary_df['HeartDiseaseorAttack'].astype(int) #set dependent variable\n",
    "\n",
    "X = binary_df.drop(columns=['HeartDiseaseorAttack']) #set independent variables\n",
    "\n",
    "display(y.info(), X.info())\n"
   ]
  },
  {
   "cell_type": "markdown",
   "id": "3020e8e2",
   "metadata": {},
   "source": [
    "#### Setting up logistic regression"
   ]
  },
  {
   "cell_type": "code",
   "execution_count": 26,
   "id": "baba713b",
   "metadata": {},
   "outputs": [],
   "source": [
    "from sklearn.model_selection import train_test_split # Split Training (70%) and Test (30%)\n",
    "  \n",
    "X_train, X_test, y_train, y_test = train_test_split(X, y, test_size=0.3)"
   ]
  },
  {
   "cell_type": "code",
   "execution_count": 28,
   "id": "c85bdeca",
   "metadata": {},
   "outputs": [],
   "source": [
    "from sklearn.linear_model import LogisticRegression\n",
    "# Create an instance of the model. \n",
    "logreg = LogisticRegression() \n",
    "# Training the model. \n",
    "logreg.fit(X_train,y_train) \n",
    "# Do prediction. \n",
    "y_pred=logreg.predict(X_test)"
   ]
  },
  {
   "cell_type": "code",
   "execution_count": 31,
   "id": "d27f435f",
   "metadata": {},
   "outputs": [
    {
     "data": {
      "text/plain": [
       "array([[68441,   455],\n",
       "       [ 6692,   516]], dtype=int64)"
      ]
     },
     "metadata": {},
     "output_type": "display_data"
    }
   ],
   "source": [
    "# Analyzing the results. \n",
    "from sklearn import metrics \n",
    "cnf_matrix = metrics.confusion_matrix(y_test, y_pred)\n",
    "display(cnf_matrix)"
   ]
  },
  {
   "cell_type": "code",
   "execution_count": 37,
   "id": "28d02a32",
   "metadata": {},
   "outputs": [
    {
     "data": {
      "image/png": "[encoded data removed]",
      "text/plain": [
       "<Figure size 1500x500 with 2 Axes>"
      ]
     },
     "metadata": {},
     "output_type": "display_data"
    }
   ],
   "source": [
    "variables=[0,1] # name  of classes\n",
    "fig, ax = plt.subplots()\n",
    "tick_marks = np.arange(len(variables))\n",
    "plt.xticks(tick_marks, variables)\n",
    "plt.yticks(tick_marks, variables)\n",
    "# create heatmap\n",
    "sns.heatmap(pd.DataFrame(cnf_matrix), annot=True, cmap=\"Reds\" ,fmt='g')\n",
    "ax.xaxis.set_label_position(\"top\")\n",
    "plt.tight_layout()\n",
    "plt.title('Confusion matrix', y=1.1)\n",
    "plt.ylabel('Actual label')\n",
    "plt.xlabel('Predicted label')\n",
    "plt.show()"
   ]
  },
  {
   "cell_type": "code",
   "execution_count": 30,
   "id": "4a1b425a",
   "metadata": {},
   "outputs": [
    {
     "name": "stdout",
     "output_type": "stream",
     "text": [
      "Accuracy: 0.9060890360559235\n"
     ]
    }
   ],
   "source": [
    "print(\"Accuracy:\",metrics.accuracy_score(y_test, y_pred))"
   ]
  },
  {
   "cell_type": "markdown",
   "id": "72e9083c",
   "metadata": {},
   "source": [
    "## Insights"
   ]
  },
  {
   "cell_type": "markdown",
   "id": "7dc796a6",
   "metadata": {},
   "source": [
    "#### Exploratory Analysis\n",
    "1. There is a small percentage of those with a history of HD or Attack (9.42%) vs no history (90.6%). This may skew results.\n",
    "2. Preliminary analysis shows a higher count of High BP, High Chol, and is a Smoker for those with a history.\n",
    "3. Those with a history of HD or Attack tend to be older.\n",
    "#### Initial Correlations w/Cramer's V Matrix\n",
    "1. High BP has one of the strongest correlations, but still small (0.209348).\n",
    "2. High Chol has one of the strongest corr as well, but even smaller (0.180752).\n",
    "3. History of a Strokethe also has a stronger correlation, but still small (0.202968).\n",
    "4. Difficulty Walking has strongest correlation (0.212691).\n",
    "5. All of the above correlations are the strongest, but are still weak. This means that according to Cramer's V, these variables had the largest impact on History of Heart Disease or Attack, but they still may not be a large factor in this dataset.\n",
    "#### Logistic Regression/Confusion Matrix\n",
    "1. The number of entries classified correctly as a 0 (no history of HD or Attack) was 68441.\n",
    "2. The number of entries incorrectly identified as 1 (history of HD/Attack) was 455. \n",
    "3. The number of entries incorrectly identified as 0 was 6682. \n",
    "4. The number of entries classified correctly as 1 was 516. \n",
    "5. The accuracy of the model was about 90.61%. This means this logistic regression model was able to pretty accurately predict (with the given dataset) whether someone did or did not have a history of HD or Attack, making it a good model to use for other datasets. "
   ]
  },
  {
   "cell_type": "code",
   "execution_count": null,
   "id": "03dd98d8",
   "metadata": {},
   "outputs": [],
   "source": []
  }
 ],
 "metadata": {
  "kernelspec": {
   "display_name": "Python 3 (ipykernel)",
   "language": "python",
   "name": "python3"
  },
  "language_info": {
   "codemirror_mode": {
    "name": "ipython",
    "version": 3
   },
   "file_extension": ".py",
   "mimetype": "text/x-python",
   "name": "python",
   "nbconvert_exporter": "python",
   "pygments_lexer": "ipython3",
   "version": "3.11.3"
  }
 },
 "nbformat": 4,
 "nbformat_minor": 5
}
